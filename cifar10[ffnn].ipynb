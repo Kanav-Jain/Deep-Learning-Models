{
  "nbformat": 4,
  "nbformat_minor": 0,
  "metadata": {
    "colab": {
      "name": "cifar10[ffnn].ipynb",
      "provenance": [],
      "authorship_tag": "ABX9TyP5tUgzovIVsjele2DkKdMH",
      "include_colab_link": true
    },
    "kernelspec": {
      "name": "python3",
      "display_name": "Python 3"
    },
    "language_info": {
      "name": "python"
    }
  },
  "cells": [
    {
      "cell_type": "markdown",
      "metadata": {
        "id": "view-in-github",
        "colab_type": "text"
      },
      "source": [
        "<a href=\"https://colab.research.google.com/github/Kanav-Jain/Deep-Learning-Models/blob/main/cifar10%5Bffnn%5D.ipynb\" target=\"_parent\"><img src=\"https://colab.research.google.com/assets/colab-badge.svg\" alt=\"Open In Colab\"/></a>"
      ]
    },
    {
      "cell_type": "code",
      "metadata": {
        "id": "9K0oaP11wCff"
      },
      "source": [
        "import tensorflow as tf\n",
        "configuration = tf.compat.v1.ConfigProto()\n",
        "configuration.gpu_options.allow_growth = True\n",
        "session = tf.compat.v1.Session(config = configuration)"
      ],
      "execution_count": 1,
      "outputs": []
    },
    {
      "cell_type": "code",
      "metadata": {
        "id": "NDA83YRCxtKH"
      },
      "source": [
        "import numpy as np\n",
        "import pandas as pd\n",
        "import matplotlib.pyplot as plt\n",
        "import seaborn as sns\n",
        "%matplotlib inline"
      ],
      "execution_count": 2,
      "outputs": []
    },
    {
      "cell_type": "code",
      "metadata": {
        "id": "TEKJ-wuJxtdr"
      },
      "source": [
        "from tensorflow.keras.datasets import cifar10"
      ],
      "execution_count": 3,
      "outputs": []
    },
    {
      "cell_type": "code",
      "metadata": {
        "id": "PYe289VixzG_"
      },
      "source": [
        "(x_train,y_train), (x_test, y_test) = cifar10.load_data()"
      ],
      "execution_count": 4,
      "outputs": []
    },
    {
      "cell_type": "code",
      "metadata": {
        "colab": {
          "base_uri": "https://localhost:8080/"
        },
        "id": "4LENH5mlx7dq",
        "outputId": "26d65436-ae90-46dd-a2bc-6cfd94dfc2df"
      },
      "source": [
        "x_train.shape"
      ],
      "execution_count": 5,
      "outputs": [
        {
          "output_type": "execute_result",
          "data": {
            "text/plain": [
              "(50000, 32, 32, 3)"
            ]
          },
          "metadata": {
            "tags": []
          },
          "execution_count": 5
        }
      ]
    },
    {
      "cell_type": "code",
      "metadata": {
        "colab": {
          "base_uri": "https://localhost:8080/"
        },
        "id": "DZdUh8Lmx_eN",
        "outputId": "8a793d78-8302-4a65-8cd2-42b5cd4d9f21"
      },
      "source": [
        "x_train[0]"
      ],
      "execution_count": 6,
      "outputs": [
        {
          "output_type": "execute_result",
          "data": {
            "text/plain": [
              "array([[[ 59,  62,  63],\n",
              "        [ 43,  46,  45],\n",
              "        [ 50,  48,  43],\n",
              "        ...,\n",
              "        [158, 132, 108],\n",
              "        [152, 125, 102],\n",
              "        [148, 124, 103]],\n",
              "\n",
              "       [[ 16,  20,  20],\n",
              "        [  0,   0,   0],\n",
              "        [ 18,   8,   0],\n",
              "        ...,\n",
              "        [123,  88,  55],\n",
              "        [119,  83,  50],\n",
              "        [122,  87,  57]],\n",
              "\n",
              "       [[ 25,  24,  21],\n",
              "        [ 16,   7,   0],\n",
              "        [ 49,  27,   8],\n",
              "        ...,\n",
              "        [118,  84,  50],\n",
              "        [120,  84,  50],\n",
              "        [109,  73,  42]],\n",
              "\n",
              "       ...,\n",
              "\n",
              "       [[208, 170,  96],\n",
              "        [201, 153,  34],\n",
              "        [198, 161,  26],\n",
              "        ...,\n",
              "        [160, 133,  70],\n",
              "        [ 56,  31,   7],\n",
              "        [ 53,  34,  20]],\n",
              "\n",
              "       [[180, 139,  96],\n",
              "        [173, 123,  42],\n",
              "        [186, 144,  30],\n",
              "        ...,\n",
              "        [184, 148,  94],\n",
              "        [ 97,  62,  34],\n",
              "        [ 83,  53,  34]],\n",
              "\n",
              "       [[177, 144, 116],\n",
              "        [168, 129,  94],\n",
              "        [179, 142,  87],\n",
              "        ...,\n",
              "        [216, 184, 140],\n",
              "        [151, 118,  84],\n",
              "        [123,  92,  72]]], dtype=uint8)"
            ]
          },
          "metadata": {
            "tags": []
          },
          "execution_count": 6
        }
      ]
    },
    {
      "cell_type": "code",
      "metadata": {
        "colab": {
          "base_uri": "https://localhost:8080/"
        },
        "id": "XeuiMObqzM78",
        "outputId": "cf478bd6-9aff-40b9-bc91-3c4d8ecb22b2"
      },
      "source": [
        "num_labels = len(np.unique(y_train))\n",
        "num_labels"
      ],
      "execution_count": 7,
      "outputs": [
        {
          "output_type": "execute_result",
          "data": {
            "text/plain": [
              "10"
            ]
          },
          "metadata": {
            "tags": []
          },
          "execution_count": 7
        }
      ]
    },
    {
      "cell_type": "code",
      "metadata": {
        "colab": {
          "base_uri": "https://localhost:8080/",
          "height": 283
        },
        "id": "oIdwznAgydsj",
        "outputId": "6c03ed1b-de31-4d8f-c970-d8101da31fb8"
      },
      "source": [
        "plt.imshow(x_train[0])"
      ],
      "execution_count": 8,
      "outputs": [
        {
          "output_type": "execute_result",
          "data": {
            "text/plain": [
              "<matplotlib.image.AxesImage at 0x7f1526319410>"
            ]
          },
          "metadata": {
            "tags": []
          },
          "execution_count": 8
        },
        {
          "output_type": "display_data",
          "data": {
            "image/png": "[encoded data removed]",
            "text/plain": [
              "<Figure size 432x288 with 1 Axes>"
            ]
          },
          "metadata": {
            "tags": [],
            "needs_background": "light"
          }
        }
      ]
    },
    {
      "cell_type": "code",
      "metadata": {
        "colab": {
          "base_uri": "https://localhost:8080/"
        },
        "id": "eG75caDzyryS",
        "outputId": "8d00b535-31eb-43d4-de12-5c8a3a826b5e"
      },
      "source": [
        "y_train"
      ],
      "execution_count": 9,
      "outputs": [
        {
          "output_type": "execute_result",
          "data": {
            "text/plain": [
              "array([[6],\n",
              "       [9],\n",
              "       [9],\n",
              "       ...,\n",
              "       [9],\n",
              "       [1],\n",
              "       [1]], dtype=uint8)"
            ]
          },
          "metadata": {
            "tags": []
          },
          "execution_count": 9
        }
      ]
    },
    {
      "cell_type": "code",
      "metadata": {
        "id": "hZ2iZtjhy34t"
      },
      "source": [
        "from tensorflow.keras.utils import to_categorical"
      ],
      "execution_count": 10,
      "outputs": []
    },
    {
      "cell_type": "code",
      "metadata": {
        "id": "KMgHXKYWzEOA"
      },
      "source": [
        "y_train = to_categorical(y_train)"
      ],
      "execution_count": 11,
      "outputs": []
    },
    {
      "cell_type": "code",
      "metadata": {
        "colab": {
          "base_uri": "https://localhost:8080/"
        },
        "id": "EXsQS8qTzH4A",
        "outputId": "268a797d-6e26-48a2-cc4d-34fec4848a8b"
      },
      "source": [
        "y_train[1]"
      ],
      "execution_count": 12,
      "outputs": [
        {
          "output_type": "execute_result",
          "data": {
            "text/plain": [
              "array([0., 0., 0., 0., 0., 0., 0., 0., 0., 1.], dtype=float32)"
            ]
          },
          "metadata": {
            "tags": []
          },
          "execution_count": 12
        }
      ]
    },
    {
      "cell_type": "code",
      "metadata": {
        "id": "s7xP4N03zYVI"
      },
      "source": [
        "input_size = x_train.shape[1] **2 * (x_train.shape[-1])"
      ],
      "execution_count": 13,
      "outputs": []
    },
    {
      "cell_type": "code",
      "metadata": {
        "colab": {
          "base_uri": "https://localhost:8080/"
        },
        "id": "o9qOly3V7Mmz",
        "outputId": "842ac447-93a9-47a0-821f-05c84e39d4d0"
      },
      "source": [
        "input_size"
      ],
      "execution_count": 14,
      "outputs": [
        {
          "output_type": "execute_result",
          "data": {
            "text/plain": [
              "3072"
            ]
          },
          "metadata": {
            "tags": []
          },
          "execution_count": 14
        }
      ]
    },
    {
      "cell_type": "code",
      "metadata": {
        "id": "GZk2a8ln7OGV"
      },
      "source": [
        "x_train = np.reshape(x_train, [-1,input_size])"
      ],
      "execution_count": 15,
      "outputs": []
    },
    {
      "cell_type": "code",
      "metadata": {
        "colab": {
          "base_uri": "https://localhost:8080/"
        },
        "id": "DdB9KIST7PZK",
        "outputId": "26fb4bc1-ac3a-4d2a-f7ca-c834aa027f99"
      },
      "source": [
        "x_train[1]"
      ],
      "execution_count": 16,
      "outputs": [
        {
          "output_type": "execute_result",
          "data": {
            "text/plain": [
              "array([154, 177, 187, ..., 143, 133, 144], dtype=uint8)"
            ]
          },
          "metadata": {
            "tags": []
          },
          "execution_count": 16
        }
      ]
    },
    {
      "cell_type": "code",
      "metadata": {
        "id": "kUDTLoSP8eRP"
      },
      "source": [
        "x_test = np.reshape(x_test, [-1,input_size,])"
      ],
      "execution_count": 17,
      "outputs": []
    },
    {
      "cell_type": "code",
      "metadata": {
        "id": "O-DXnPjX8i_o"
      },
      "source": [
        "x_train = x_train.astype('float32')/255\n",
        "x_test = x_test.astype('float32')/255"
      ],
      "execution_count": 18,
      "outputs": []
    },
    {
      "cell_type": "code",
      "metadata": {
        "colab": {
          "base_uri": "https://localhost:8080/"
        },
        "id": "1CdWYoTt8rk7",
        "outputId": "56706d87-3f2f-46a2-d29f-3b33eed67e47"
      },
      "source": [
        "x_test.shape"
      ],
      "execution_count": 19,
      "outputs": [
        {
          "output_type": "execute_result",
          "data": {
            "text/plain": [
              "(10000, 3072)"
            ]
          },
          "metadata": {
            "tags": []
          },
          "execution_count": 19
        }
      ]
    },
    {
      "cell_type": "code",
      "metadata": {
        "id": "tkC-8KYi8vq1"
      },
      "source": [
        "import keras\n",
        "from keras.models import Sequential\n",
        "from keras.layers import Dense"
      ],
      "execution_count": 20,
      "outputs": []
    },
    {
      "cell_type": "code",
      "metadata": {
        "id": "UxFh0dLG87Mh"
      },
      "source": [
        "cifar10_model = Sequential()"
      ],
      "execution_count": 21,
      "outputs": []
    },
    {
      "cell_type": "code",
      "metadata": {
        "id": "-6b-RxcQ9U7X"
      },
      "source": [
        "cifar10_model.add(Dense(input_dim = input_size, units = 256, kernel_initializer='uniform', activation = 'relu'))"
      ],
      "execution_count": 22,
      "outputs": []
    },
    {
      "cell_type": "code",
      "metadata": {
        "id": "3KXsMS9V9pVy"
      },
      "source": [
        "cifar10_model.add(Dense(units = 256, kernel_initializer='uniform', activation = 'relu'))"
      ],
      "execution_count": 23,
      "outputs": []
    },
    {
      "cell_type": "code",
      "metadata": {
        "id": "d8ZmWyvj9teL"
      },
      "source": [
        "cifar10_model.add(Dense(units = num_labels, kernel_initializer='uniform', activation = 'softmax'))"
      ],
      "execution_count": 24,
      "outputs": []
    },
    {
      "cell_type": "code",
      "metadata": {
        "id": "fVca0mHm91p7"
      },
      "source": [
        "cifar10_model.compile(optimizer='adam', loss = 'categorical_crossentropy', metrics = ['accuracy'])"
      ],
      "execution_count": 25,
      "outputs": []
    },
    {
      "cell_type": "code",
      "metadata": {
        "colab": {
          "base_uri": "https://localhost:8080/"
        },
        "id": "eXXLbbt7-LQN",
        "outputId": "aa4f8a8a-caf5-4f4b-db96-ac59a16cece1"
      },
      "source": [
        "cifar10_model.summary()"
      ],
      "execution_count": 26,
      "outputs": [
        {
          "output_type": "stream",
          "text": [
            "Model: \"sequential\"\n",
            "_________________________________________________________________\n",
            "Layer (type)                 Output Shape              Param #   \n",
            "=================================================================\n",
            "dense (Dense)                (None, 256)               786688    \n",
            "_________________________________________________________________\n",
            "dense_1 (Dense)              (None, 256)               65792     \n",
            "_________________________________________________________________\n",
            "dense_2 (Dense)              (None, 10)                2570      \n",
            "=================================================================\n",
            "Total params: 855,050\n",
            "Trainable params: 855,050\n",
            "Non-trainable params: 0\n",
            "_________________________________________________________________\n"
          ],
          "name": "stdout"
        }
      ]
    },
    {
      "cell_type": "code",
      "metadata": {
        "colab": {
          "base_uri": "https://localhost:8080/"
        },
        "id": "1juZrNPB99ue",
        "outputId": "8ac81a6c-3fdf-4c46-bdcb-f89aea4cab6d"
      },
      "source": [
        "results = cifar10_model.fit(x_train, y_train, batch_size = 120, epochs = 20)"
      ],
      "execution_count": 27,
      "outputs": [
        {
          "output_type": "stream",
          "text": [
            "Epoch 1/20\n",
            "417/417 [==============================] - 20s 15ms/step - loss: 1.9737 - accuracy: 0.2731\n",
            "Epoch 2/20\n",
            "417/417 [==============================] - 6s 15ms/step - loss: 1.6808 - accuracy: 0.3989\n",
            "Epoch 3/20\n",
            "417/417 [==============================] - 6s 14ms/step - loss: 1.6005 - accuracy: 0.4261\n",
            "Epoch 4/20\n",
            "417/417 [==============================] - 6s 14ms/step - loss: 1.5324 - accuracy: 0.4524\n",
            "Epoch 5/20\n",
            "417/417 [==============================] - 6s 14ms/step - loss: 1.4866 - accuracy: 0.4711\n",
            "Epoch 6/20\n",
            "417/417 [==============================] - 6s 14ms/step - loss: 1.4535 - accuracy: 0.4823\n",
            "Epoch 7/20\n",
            "417/417 [==============================] - 6s 14ms/step - loss: 1.4263 - accuracy: 0.4916\n",
            "Epoch 8/20\n",
            "417/417 [==============================] - 6s 15ms/step - loss: 1.3778 - accuracy: 0.5097\n",
            "Epoch 9/20\n",
            "417/417 [==============================] - 6s 14ms/step - loss: 1.3686 - accuracy: 0.5146\n",
            "Epoch 10/20\n",
            "417/417 [==============================] - 6s 14ms/step - loss: 1.3426 - accuracy: 0.5218\n",
            "Epoch 11/20\n",
            "417/417 [==============================] - 6s 14ms/step - loss: 1.3111 - accuracy: 0.5292\n",
            "Epoch 12/20\n",
            "417/417 [==============================] - 6s 14ms/step - loss: 1.2892 - accuracy: 0.5432\n",
            "Epoch 13/20\n",
            "417/417 [==============================] - 6s 14ms/step - loss: 1.2793 - accuracy: 0.5448\n",
            "Epoch 14/20\n",
            "417/417 [==============================] - 6s 14ms/step - loss: 1.2459 - accuracy: 0.5565\n",
            "Epoch 15/20\n",
            "417/417 [==============================] - 6s 14ms/step - loss: 1.2343 - accuracy: 0.5617\n",
            "Epoch 16/20\n",
            "417/417 [==============================] - 6s 14ms/step - loss: 1.2220 - accuracy: 0.5599\n",
            "Epoch 17/20\n",
            "417/417 [==============================] - 6s 14ms/step - loss: 1.1976 - accuracy: 0.5727\n",
            "Epoch 18/20\n",
            "417/417 [==============================] - 6s 14ms/step - loss: 1.1742 - accuracy: 0.5799\n",
            "Epoch 19/20\n",
            "417/417 [==============================] - 6s 15ms/step - loss: 1.1786 - accuracy: 0.5794\n",
            "Epoch 20/20\n",
            "417/417 [==============================] - 7s 16ms/step - loss: 1.1410 - accuracy: 0.5916\n"
          ],
          "name": "stdout"
        }
      ]
    },
    {
      "cell_type": "code",
      "metadata": {
        "id": "3IkoNPEg-QPN"
      },
      "source": [
        "y_pred = cifar10_model.predict(x_test)"
      ],
      "execution_count": 28,
      "outputs": []
    },
    {
      "cell_type": "code",
      "metadata": {
        "colab": {
          "base_uri": "https://localhost:8080/"
        },
        "id": "Dw-ibcYb__x1",
        "outputId": "f1c3f9e2-8d77-4b4e-b705-7c2ba227f4e9"
      },
      "source": [
        "len(y_pred)"
      ],
      "execution_count": 29,
      "outputs": [
        {
          "output_type": "execute_result",
          "data": {
            "text/plain": [
              "10000"
            ]
          },
          "metadata": {
            "tags": []
          },
          "execution_count": 29
        }
      ]
    },
    {
      "cell_type": "code",
      "metadata": {
        "id": "pjVRbtTe_Xol"
      },
      "source": [
        "y_pred = np.argmax(y_pred,axis = 1)"
      ],
      "execution_count": 30,
      "outputs": []
    },
    {
      "cell_type": "code",
      "metadata": {
        "colab": {
          "base_uri": "https://localhost:8080/"
        },
        "id": "edzUvYuH_bU-",
        "outputId": "c3791ffe-7c43-4d6d-ddea-9d0ddbec9b79"
      },
      "source": [
        "y_pred"
      ],
      "execution_count": 31,
      "outputs": [
        {
          "output_type": "execute_result",
          "data": {
            "text/plain": [
              "array([3, 9, 8, ..., 2, 7, 7])"
            ]
          },
          "metadata": {
            "tags": []
          },
          "execution_count": 31
        }
      ]
    },
    {
      "cell_type": "code",
      "metadata": {
        "id": "03ImxIFP_qaH"
      },
      "source": [
        "from sklearn.metrics import confusion_matrix, classification_report"
      ],
      "execution_count": 32,
      "outputs": []
    },
    {
      "cell_type": "code",
      "metadata": {
        "colab": {
          "base_uri": "https://localhost:8080/"
        },
        "id": "Mwy_bhzU_voj",
        "outputId": "413fdf8e-f1e0-45e8-ad0b-02f77635e1b5"
      },
      "source": [
        "confusion_matrix(y_test, y_pred)"
      ],
      "execution_count": 33,
      "outputs": [
        {
          "output_type": "execute_result",
          "data": {
            "text/plain": [
              "array([[583,  40,  38,  25,  59,  15,  24,  64, 109,  43],\n",
              "       [ 40, 691,   7,  30,   9,  17,  16,  40,  45, 105],\n",
              "       [ 68,  18, 260,  96, 231,  63, 127,  97,  23,  17],\n",
              "       [ 21,  26,  49, 344,  78, 177, 167,  82,  30,  26],\n",
              "       [ 40,  13,  72,  46, 544,  36, 120, 104,  18,   7],\n",
              "       [ 12,   9,  55, 209,  89, 376, 107, 105,  22,  16],\n",
              "       [  6,  17,  36,  79, 136,  41, 630,  26,  11,  18],\n",
              "       [ 34,  20,  18,  50,  99,  55,  27, 666,   3,  28],\n",
              "       [ 99,  72,   4,  25,  41,  17,  12,  45, 631,  54],\n",
              "       [ 39, 242,   5,  37,  17,  13,  21,  82,  44, 500]])"
            ]
          },
          "metadata": {
            "tags": []
          },
          "execution_count": 33
        }
      ]
    },
    {
      "cell_type": "code",
      "metadata": {
        "colab": {
          "base_uri": "https://localhost:8080/"
        },
        "id": "lV8PcF4s_y4Q",
        "outputId": "00fbb744-5602-47b2-c7cd-010993aed53a"
      },
      "source": [
        "print(classification_report(y_test, y_pred))"
      ],
      "execution_count": 34,
      "outputs": [
        {
          "output_type": "stream",
          "text": [
            "              precision    recall  f1-score   support\n",
            "\n",
            "           0       0.62      0.58      0.60      1000\n",
            "           1       0.60      0.69      0.64      1000\n",
            "           2       0.48      0.26      0.34      1000\n",
            "           3       0.37      0.34      0.35      1000\n",
            "           4       0.42      0.54      0.47      1000\n",
            "           5       0.46      0.38      0.42      1000\n",
            "           6       0.50      0.63      0.56      1000\n",
            "           7       0.51      0.67      0.58      1000\n",
            "           8       0.67      0.63      0.65      1000\n",
            "           9       0.61      0.50      0.55      1000\n",
            "\n",
            "    accuracy                           0.52     10000\n",
            "   macro avg       0.52      0.52      0.52     10000\n",
            "weighted avg       0.52      0.52      0.52     10000\n",
            "\n"
          ],
          "name": "stdout"
        }
      ]
    },
    {
      "cell_type": "code",
      "metadata": {
        "id": "jewuvgArB1yD"
      },
      "source": [
        ""
      ],
      "execution_count": null,
      "outputs": []
    }
  ]
}