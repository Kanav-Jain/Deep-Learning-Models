{
  "nbformat": 4,
  "nbformat_minor": 0,
  "metadata": {
    "colab": {
      "name": "Mnist.ipynb",
      "provenance": [],
      "authorship_tag": "ABX9TyPDIwKmiR0+8aoj9zzZjyI3",
      "include_colab_link": true
    },
    "kernelspec": {
      "name": "python3",
      "display_name": "Python 3"
    },
    "language_info": {
      "name": "python"
    }
  },
  "cells": [
    {
      "cell_type": "markdown",
      "metadata": {
        "id": "view-in-github",
        "colab_type": "text"
      },
      "source": [
        "<a href=\"https://colab.research.google.com/github/Kanav-Jain/Deep-Learning-Models/blob/main/Mnist.ipynb\" target=\"_parent\"><img src=\"https://colab.research.google.com/assets/colab-badge.svg\" alt=\"Open In Colab\"/></a>"
      ]
    },
    {
      "cell_type": "code",
      "metadata": {
        "id": "gZIElA6dI3xQ"
      },
      "source": [
        "import tensorflow as tf\n",
        "configuration = tf.compat.v1.ConfigProto()\n",
        "configuration.gpu_options.allow_growth = True\n",
        "session = tf.compat.v1.Session(config = configuration)"
      ],
      "execution_count": 18,
      "outputs": []
    },
    {
      "cell_type": "code",
      "metadata": {
        "id": "y_jgUrx2LkzI"
      },
      "source": [
        "import numpy as np\n",
        "import pandas as pd\n",
        "import matplotlib.pyplot as plt\n",
        "import seaborn as sns\n",
        "%matplotlib inline"
      ],
      "execution_count": 19,
      "outputs": []
    },
    {
      "cell_type": "code",
      "metadata": {
        "id": "Wga6gKSDMZhK"
      },
      "source": [
        "from tensorflow.keras.datasets import mnist"
      ],
      "execution_count": 20,
      "outputs": []
    },
    {
      "cell_type": "code",
      "metadata": {
        "id": "_dINefYQOGdu"
      },
      "source": [
        "(x_train, y_train), (x_test,y_test) = mnist.load_data()"
      ],
      "execution_count": 77,
      "outputs": []
    },
    {
      "cell_type": "code",
      "metadata": {
        "colab": {
          "base_uri": "https://localhost:8080/"
        },
        "id": "Ae9_w_NjOHkv",
        "outputId": "fda63148-44a4-4412-a804-67748cfe5e65"
      },
      "source": [
        "x_train.shape"
      ],
      "execution_count": 78,
      "outputs": [
        {
          "output_type": "execute_result",
          "data": {
            "text/plain": [
              "(60000, 28, 28)"
            ]
          },
          "metadata": {
            "tags": []
          },
          "execution_count": 78
        }
      ]
    },
    {
      "cell_type": "code",
      "metadata": {
        "colab": {
          "base_uri": "https://localhost:8080/"
        },
        "id": "tsVXhQ-7OiT8",
        "outputId": "0d497239-b886-4915-a02e-250ab67275d2"
      },
      "source": [
        "x_test.shape"
      ],
      "execution_count": 79,
      "outputs": [
        {
          "output_type": "execute_result",
          "data": {
            "text/plain": [
              "(10000, 28, 28)"
            ]
          },
          "metadata": {
            "tags": []
          },
          "execution_count": 79
        }
      ]
    },
    {
      "cell_type": "code",
      "metadata": {
        "colab": {
          "base_uri": "https://localhost:8080/"
        },
        "id": "kQ-jIhwjOpI6",
        "outputId": "635891c7-741d-406c-9450-826291a3d388"
      },
      "source": [
        "y_train.shape"
      ],
      "execution_count": 80,
      "outputs": [
        {
          "output_type": "execute_result",
          "data": {
            "text/plain": [
              "(60000,)"
            ]
          },
          "metadata": {
            "tags": []
          },
          "execution_count": 80
        }
      ]
    },
    {
      "cell_type": "code",
      "metadata": {
        "colab": {
          "base_uri": "https://localhost:8080/",
          "height": 282
        },
        "id": "AnEgfGUJOrjg",
        "outputId": "931a32ca-2763-48b5-966d-ef9276e596b1"
      },
      "source": [
        "plt.imshow(x_train[5])"
      ],
      "execution_count": 81,
      "outputs": [
        {
          "output_type": "execute_result",
          "data": {
            "text/plain": [
              "<matplotlib.image.AxesImage at 0x7fa7afa76c50>"
            ]
          },
          "metadata": {
            "tags": []
          },
          "execution_count": 81
        },
        {
          "output_type": "display_data",
          "data": {
            "image/png": "[encoded data removed]",
            "text/plain": [
              "<Figure size 432x288 with 1 Axes>"
            ]
          },
          "metadata": {
            "tags": [],
            "needs_background": "light"
          }
        }
      ]
    },
    {
      "cell_type": "code",
      "metadata": {
        "id": "1G8H63WBP0Dr"
      },
      "source": [
        "num_labels = len(np.unique(y_train))"
      ],
      "execution_count": 82,
      "outputs": []
    },
    {
      "cell_type": "code",
      "metadata": {
        "colab": {
          "base_uri": "https://localhost:8080/"
        },
        "id": "eJC9kjKugmIO",
        "outputId": "57769360-200d-4225-ba01-446c97224dd9"
      },
      "source": [
        "num_labels"
      ],
      "execution_count": 83,
      "outputs": [
        {
          "output_type": "execute_result",
          "data": {
            "text/plain": [
              "10"
            ]
          },
          "metadata": {
            "tags": []
          },
          "execution_count": 83
        }
      ]
    },
    {
      "cell_type": "code",
      "metadata": {
        "id": "U4Nq4cvjgnf7"
      },
      "source": [
        "from tensorflow.keras.utils import to_categorical"
      ],
      "execution_count": 84,
      "outputs": []
    },
    {
      "cell_type": "code",
      "metadata": {
        "id": "EZT3a-FZhHYF"
      },
      "source": [
        "y_train = to_categorical(y_train)"
      ],
      "execution_count": 85,
      "outputs": []
    },
    {
      "cell_type": "code",
      "metadata": {
        "id": "_0TDfNeihMJi"
      },
      "source": [
        "y_test = to_categorical(y_test)"
      ],
      "execution_count": 30,
      "outputs": []
    },
    {
      "cell_type": "code",
      "metadata": {
        "colab": {
          "base_uri": "https://localhost:8080/"
        },
        "id": "d0NK78sUigvQ",
        "outputId": "b3ff036a-d8c6-4585-ee3f-5014e64fdda3"
      },
      "source": [
        "image_size = x_train.shape[1]\n",
        "image_size"
      ],
      "execution_count": 31,
      "outputs": [
        {
          "output_type": "execute_result",
          "data": {
            "text/plain": [
              "28"
            ]
          },
          "metadata": {
            "tags": []
          },
          "execution_count": 31
        }
      ]
    },
    {
      "cell_type": "code",
      "metadata": {
        "colab": {
          "base_uri": "https://localhost:8080/"
        },
        "id": "rVZDjd7-jTKa",
        "outputId": "9321fb38-1ba7-4f1e-d066-fbd551fe0cb3"
      },
      "source": [
        "input_size = image_size **2\n",
        "input_size"
      ],
      "execution_count": 32,
      "outputs": [
        {
          "output_type": "execute_result",
          "data": {
            "text/plain": [
              "784"
            ]
          },
          "metadata": {
            "tags": []
          },
          "execution_count": 32
        }
      ]
    },
    {
      "cell_type": "code",
      "metadata": {
        "id": "TbUPWRRljnab"
      },
      "source": [
        "x_train = np.reshape(x_train, [-1,input_size])"
      ],
      "execution_count": 33,
      "outputs": []
    },
    {
      "cell_type": "code",
      "metadata": {
        "colab": {
          "base_uri": "https://localhost:8080/"
        },
        "id": "ozXWbNspkZye",
        "outputId": "3652d9a8-9ea5-4c77-dd32-428589f8e01a"
      },
      "source": [
        "x_train[0]"
      ],
      "execution_count": 35,
      "outputs": [
        {
          "output_type": "execute_result",
          "data": {
            "text/plain": [
              "array([  0,   0,   0,   0,   0,   0,   0,   0,   0,   0,   0,   0,   0,\n",
              "         0,   0,   0,   0,   0,   0,   0,   0,   0,   0,   0,   0,   0,\n",
              "         0,   0,   0,   0,   0,   0,   0,   0,   0,   0,   0,   0,   0,\n",
              "         0,   0,   0,   0,   0,   0,   0,   0,   0,   0,   0,   0,   0,\n",
              "         0,   0,   0,   0,   0,   0,   0,   0,   0,   0,   0,   0,   0,\n",
              "         0,   0,   0,   0,   0,   0,   0,   0,   0,   0,   0,   0,   0,\n",
              "         0,   0,   0,   0,   0,   0,   0,   0,   0,   0,   0,   0,   0,\n",
              "         0,   0,   0,   0,   0,   0,   0,   0,   0,   0,   0,   0,   0,\n",
              "         0,   0,   0,   0,   0,   0,   0,   0,   0,   0,   0,   0,   0,\n",
              "         0,   0,   0,   0,   0,   0,   0,   0,   0,   0,   0,   0,   0,\n",
              "         0,   0,   0,   0,   0,   0,   0,   0,   0,   0,   0,   0,   0,\n",
              "         0,   0,   0,   0,   0,   0,   0,   0,   0,   3,  18,  18,  18,\n",
              "       126, 136, 175,  26, 166, 255, 247, 127,   0,   0,   0,   0,   0,\n",
              "         0,   0,   0,   0,   0,   0,   0,  30,  36,  94, 154, 170, 253,\n",
              "       253, 253, 253, 253, 225, 172, 253, 242, 195,  64,   0,   0,   0,\n",
              "         0,   0,   0,   0,   0,   0,   0,   0,  49, 238, 253, 253, 253,\n",
              "       253, 253, 253, 253, 253, 251,  93,  82,  82,  56,  39,   0,   0,\n",
              "         0,   0,   0,   0,   0,   0,   0,   0,   0,   0,  18, 219, 253,\n",
              "       253, 253, 253, 253, 198, 182, 247, 241,   0,   0,   0,   0,   0,\n",
              "         0,   0,   0,   0,   0,   0,   0,   0,   0,   0,   0,   0,   0,\n",
              "        80, 156, 107, 253, 253, 205,  11,   0,  43, 154,   0,   0,   0,\n",
              "         0,   0,   0,   0,   0,   0,   0,   0,   0,   0,   0,   0,   0,\n",
              "         0,   0,   0,  14,   1, 154, 253,  90,   0,   0,   0,   0,   0,\n",
              "         0,   0,   0,   0,   0,   0,   0,   0,   0,   0,   0,   0,   0,\n",
              "         0,   0,   0,   0,   0,   0,   0, 139, 253, 190,   2,   0,   0,\n",
              "         0,   0,   0,   0,   0,   0,   0,   0,   0,   0,   0,   0,   0,\n",
              "         0,   0,   0,   0,   0,   0,   0,   0,   0,  11, 190, 253,  70,\n",
              "         0,   0,   0,   0,   0,   0,   0,   0,   0,   0,   0,   0,   0,\n",
              "         0,   0,   0,   0,   0,   0,   0,   0,   0,   0,   0,   0,  35,\n",
              "       241, 225, 160, 108,   1,   0,   0,   0,   0,   0,   0,   0,   0,\n",
              "         0,   0,   0,   0,   0,   0,   0,   0,   0,   0,   0,   0,   0,\n",
              "         0,   0,  81, 240, 253, 253, 119,  25,   0,   0,   0,   0,   0,\n",
              "         0,   0,   0,   0,   0,   0,   0,   0,   0,   0,   0,   0,   0,\n",
              "         0,   0,   0,   0,   0,  45, 186, 253, 253, 150,  27,   0,   0,\n",
              "         0,   0,   0,   0,   0,   0,   0,   0,   0,   0,   0,   0,   0,\n",
              "         0,   0,   0,   0,   0,   0,   0,   0,  16,  93, 252, 253, 187,\n",
              "         0,   0,   0,   0,   0,   0,   0,   0,   0,   0,   0,   0,   0,\n",
              "         0,   0,   0,   0,   0,   0,   0,   0,   0,   0,   0,   0, 249,\n",
              "       253, 249,  64,   0,   0,   0,   0,   0,   0,   0,   0,   0,   0,\n",
              "         0,   0,   0,   0,   0,   0,   0,   0,   0,   0,   0,  46, 130,\n",
              "       183, 253, 253, 207,   2,   0,   0,   0,   0,   0,   0,   0,   0,\n",
              "         0,   0,   0,   0,   0,   0,   0,   0,   0,   0,   0,  39, 148,\n",
              "       229, 253, 253, 253, 250, 182,   0,   0,   0,   0,   0,   0,   0,\n",
              "         0,   0,   0,   0,   0,   0,   0,   0,   0,   0,   0,  24, 114,\n",
              "       221, 253, 253, 253, 253, 201,  78,   0,   0,   0,   0,   0,   0,\n",
              "         0,   0,   0,   0,   0,   0,   0,   0,   0,   0,   0,  23,  66,\n",
              "       213, 253, 253, 253, 253, 198,  81,   2,   0,   0,   0,   0,   0,\n",
              "         0,   0,   0,   0,   0,   0,   0,   0,   0,   0,   0,  18, 171,\n",
              "       219, 253, 253, 253, 253, 195,  80,   9,   0,   0,   0,   0,   0,\n",
              "         0,   0,   0,   0,   0,   0,   0,   0,   0,   0,   0,  55, 172,\n",
              "       226, 253, 253, 253, 253, 244, 133,  11,   0,   0,   0,   0,   0,\n",
              "         0,   0,   0,   0,   0,   0,   0,   0,   0,   0,   0,   0,   0,\n",
              "       136, 253, 253, 253, 212, 135, 132,  16,   0,   0,   0,   0,   0,\n",
              "         0,   0,   0,   0,   0,   0,   0,   0,   0,   0,   0,   0,   0,\n",
              "         0,   0,   0,   0,   0,   0,   0,   0,   0,   0,   0,   0,   0,\n",
              "         0,   0,   0,   0,   0,   0,   0,   0,   0,   0,   0,   0,   0,\n",
              "         0,   0,   0,   0,   0,   0,   0,   0,   0,   0,   0,   0,   0,\n",
              "         0,   0,   0,   0,   0,   0,   0,   0,   0,   0,   0,   0,   0,\n",
              "         0,   0,   0,   0,   0,   0,   0,   0,   0,   0,   0,   0,   0,\n",
              "         0,   0,   0,   0,   0,   0,   0,   0,   0,   0,   0,   0,   0,\n",
              "         0,   0,   0,   0], dtype=uint8)"
            ]
          },
          "metadata": {
            "tags": []
          },
          "execution_count": 35
        }
      ]
    },
    {
      "cell_type": "code",
      "metadata": {
        "id": "O35vtdP-ka2q"
      },
      "source": [
        "x_test = np.reshape(x_test, [-1,input_size])"
      ],
      "execution_count": 37,
      "outputs": []
    },
    {
      "cell_type": "code",
      "metadata": {
        "colab": {
          "base_uri": "https://localhost:8080/"
        },
        "id": "DpxnTtBjkkoL",
        "outputId": "9caf77cb-a56b-400c-cf16-f56f7cc8236a"
      },
      "source": [
        "x_train.shape"
      ],
      "execution_count": 39,
      "outputs": [
        {
          "output_type": "execute_result",
          "data": {
            "text/plain": [
              "(60000, 784)"
            ]
          },
          "metadata": {
            "tags": []
          },
          "execution_count": 39
        }
      ]
    },
    {
      "cell_type": "code",
      "metadata": {
        "id": "csAMw4dFkpbg"
      },
      "source": [
        "x_train = x_train.astype('float32')/255"
      ],
      "execution_count": 41,
      "outputs": []
    },
    {
      "cell_type": "code",
      "metadata": {
        "id": "Rlpux4sTlEMh"
      },
      "source": [
        "x_test = x_test.astype('float32')/255"
      ],
      "execution_count": 42,
      "outputs": []
    },
    {
      "cell_type": "code",
      "metadata": {
        "id": "R85B7djPlN1i"
      },
      "source": [
        "import keras\n",
        "from keras.models import Sequential\n",
        "from keras.layers import Dense"
      ],
      "execution_count": 46,
      "outputs": []
    },
    {
      "cell_type": "code",
      "metadata": {
        "id": "73kb082GlRHH"
      },
      "source": [
        "classifier = Sequential()"
      ],
      "execution_count": 47,
      "outputs": []
    },
    {
      "cell_type": "code",
      "metadata": {
        "id": "HRKxNNThmUlX"
      },
      "source": [
        "classifier.add(Dense(input_dim = input_size, units = 256,\n",
        "                     kernel_initializer = 'uniform', activation='relu'))"
      ],
      "execution_count": 49,
      "outputs": []
    },
    {
      "cell_type": "code",
      "metadata": {
        "id": "h_O-ltzQmpdw"
      },
      "source": [
        "classifier.add(Dense(units = 256, kernel_initializer = 'uniform', \n",
        "                     activation='relu'))"
      ],
      "execution_count": 50,
      "outputs": []
    },
    {
      "cell_type": "code",
      "metadata": {
        "id": "KhJ0EQ3Nm1jh"
      },
      "source": [
        "classifier.add(Dense(units = num_labels, kernel_initializer = 'uniform', \n",
        "                     activation='softmax'))"
      ],
      "execution_count": 51,
      "outputs": []
    },
    {
      "cell_type": "code",
      "metadata": {
        "id": "eGopp5n7nyTD"
      },
      "source": [
        "classifier.compile(optimizer='adam', loss = 'categorical_crossentropy', metrics = ['accuracy'])"
      ],
      "execution_count": 53,
      "outputs": []
    },
    {
      "cell_type": "code",
      "metadata": {
        "colab": {
          "base_uri": "https://localhost:8080/"
        },
        "id": "AjHWTTmGn0i0",
        "outputId": "ac9c016f-2694-4149-9807-5e43b2943bd9"
      },
      "source": [
        "classifier.summary()"
      ],
      "execution_count": 54,
      "outputs": [
        {
          "output_type": "stream",
          "text": [
            "Model: \"sequential\"\n",
            "_________________________________________________________________\n",
            "Layer (type)                 Output Shape              Param #   \n",
            "=================================================================\n",
            "dense (Dense)                (None, 256)               200960    \n",
            "_________________________________________________________________\n",
            "dense_1 (Dense)              (None, 256)               65792     \n",
            "_________________________________________________________________\n",
            "dense_2 (Dense)              (None, 10)                2570      \n",
            "=================================================================\n",
            "Total params: 269,322\n",
            "Trainable params: 269,322\n",
            "Non-trainable params: 0\n",
            "_________________________________________________________________\n"
          ],
          "name": "stdout"
        }
      ]
    },
    {
      "cell_type": "code",
      "metadata": {
        "colab": {
          "base_uri": "https://localhost:8080/"
        },
        "id": "IlRVuBFyofbT",
        "outputId": "e6c88961-1184-4495-8324-9b2277915955"
      },
      "source": [
        "results = classifier.fit(x_train,y_train, batch_size = 120, epochs = 20)"
      ],
      "execution_count": 56,
      "outputs": [
        {
          "output_type": "stream",
          "text": [
            "Epoch 1/20\n",
            "500/500 [==============================] - 17s 6ms/step - loss: 0.6143 - accuracy: 0.8378\n",
            "Epoch 2/20\n",
            "500/500 [==============================] - 3s 6ms/step - loss: 0.1283 - accuracy: 0.9619\n",
            "Epoch 3/20\n",
            "500/500 [==============================] - 3s 6ms/step - loss: 0.0776 - accuracy: 0.9765\n",
            "Epoch 4/20\n",
            "500/500 [==============================] - 3s 6ms/step - loss: 0.0567 - accuracy: 0.9826\n",
            "Epoch 5/20\n",
            "500/500 [==============================] - 3s 6ms/step - loss: 0.0411 - accuracy: 0.9869\n",
            "Epoch 6/20\n",
            "500/500 [==============================] - 3s 6ms/step - loss: 0.0294 - accuracy: 0.9913\n",
            "Epoch 7/20\n",
            "500/500 [==============================] - 3s 6ms/step - loss: 0.0229 - accuracy: 0.9932\n",
            "Epoch 8/20\n",
            "500/500 [==============================] - 3s 6ms/step - loss: 0.0200 - accuracy: 0.9935\n",
            "Epoch 9/20\n",
            "500/500 [==============================] - 3s 6ms/step - loss: 0.0125 - accuracy: 0.9961\n",
            "Epoch 10/20\n",
            "500/500 [==============================] - 3s 6ms/step - loss: 0.0134 - accuracy: 0.9956\n",
            "Epoch 11/20\n",
            "500/500 [==============================] - 3s 6ms/step - loss: 0.0123 - accuracy: 0.9961\n",
            "Epoch 12/20\n",
            "500/500 [==============================] - 3s 6ms/step - loss: 0.0110 - accuracy: 0.9962\n",
            "Epoch 13/20\n",
            "500/500 [==============================] - 3s 6ms/step - loss: 0.0087 - accuracy: 0.9971\n",
            "Epoch 14/20\n",
            "500/500 [==============================] - 3s 6ms/step - loss: 0.0068 - accuracy: 0.9977\n",
            "Epoch 15/20\n",
            "500/500 [==============================] - 3s 6ms/step - loss: 0.0133 - accuracy: 0.9954\n",
            "Epoch 16/20\n",
            "500/500 [==============================] - 3s 6ms/step - loss: 0.0062 - accuracy: 0.9978\n",
            "Epoch 17/20\n",
            "500/500 [==============================] - 3s 6ms/step - loss: 0.0089 - accuracy: 0.9968\n",
            "Epoch 18/20\n",
            "500/500 [==============================] - 3s 6ms/step - loss: 0.0078 - accuracy: 0.9975\n",
            "Epoch 19/20\n",
            "500/500 [==============================] - 3s 6ms/step - loss: 0.0066 - accuracy: 0.9979\n",
            "Epoch 20/20\n",
            "500/500 [==============================] - 3s 6ms/step - loss: 0.0098 - accuracy: 0.9967\n"
          ],
          "name": "stdout"
        }
      ]
    },
    {
      "cell_type": "code",
      "metadata": {
        "id": "Mt4SkXmuo3jS"
      },
      "source": [
        "accuracy = results.history['accuracy']"
      ],
      "execution_count": 57,
      "outputs": []
    },
    {
      "cell_type": "code",
      "metadata": {
        "colab": {
          "base_uri": "https://localhost:8080/",
          "height": 282
        },
        "id": "ZbYgGBNEqCN9",
        "outputId": "68e7bd45-36df-454b-a817-e729b93db6c3"
      },
      "source": [
        "plt.plot(accuracy)"
      ],
      "execution_count": 58,
      "outputs": [
        {
          "output_type": "execute_result",
          "data": {
            "text/plain": [
              "[<matplotlib.lines.Line2D at 0x7fa7b0978210>]"
            ]
          },
          "metadata": {
            "tags": []
          },
          "execution_count": 58
        },
        {
          "output_type": "display_data",
          "data": {
            "image/png": "[encoded data removed]",
            "text/plain": [
              "<Figure size 432x288 with 1 Axes>"
            ]
          },
          "metadata": {
            "tags": [],
            "needs_background": "light"
          }
        }
      ]
    },
    {
      "cell_type": "code",
      "metadata": {
        "id": "hwGRqp0qqFqD"
      },
      "source": [
        "from sklearn.metrics import classification_report, accuracy_score"
      ],
      "execution_count": 59,
      "outputs": []
    },
    {
      "cell_type": "code",
      "metadata": {
        "id": "U0EgwdfQqgUP"
      },
      "source": [
        "y_pred = classifier.predict(x_test)"
      ],
      "execution_count": 71,
      "outputs": []
    },
    {
      "cell_type": "code",
      "metadata": {
        "colab": {
          "base_uri": "https://localhost:8080/"
        },
        "id": "tKJ_CsEKrg8m",
        "outputId": "13104a8c-add4-4923-fc09-17856b2fe744"
      },
      "source": [
        "y_pred"
      ],
      "execution_count": 72,
      "outputs": [
        {
          "output_type": "execute_result",
          "data": {
            "text/plain": [
              "array([[1.86850088e-13, 1.55770345e-11, 3.68541742e-12, ...,\n",
              "        1.00000000e+00, 1.79592262e-13, 1.86672011e-09],\n",
              "       [1.06993670e-17, 1.50303085e-05, 9.99984980e-01, ...,\n",
              "        1.38863746e-16, 1.14787716e-20, 4.93035562e-27],\n",
              "       [8.01574315e-14, 9.99999523e-01, 2.29102493e-09, ...,\n",
              "        1.93334927e-07, 2.29971974e-07, 7.38558994e-14],\n",
              "       ...,\n",
              "       [1.57808625e-19, 1.23933121e-17, 1.59887469e-21, ...,\n",
              "        1.14580722e-13, 1.79755109e-16, 1.73082620e-12],\n",
              "       [9.69686125e-20, 2.42383950e-23, 6.83749039e-22, ...,\n",
              "        2.53757143e-19, 3.10790944e-13, 1.91491795e-20],\n",
              "       [8.66857210e-19, 1.71359852e-18, 3.54200750e-16, ...,\n",
              "        9.13365737e-25, 2.77011776e-16, 1.04780126e-26]], dtype=float32)"
            ]
          },
          "metadata": {
            "tags": []
          },
          "execution_count": 72
        }
      ]
    },
    {
      "cell_type": "code",
      "metadata": {
        "colab": {
          "base_uri": "https://localhost:8080/"
        },
        "id": "YtbS5UOiqoSU",
        "outputId": "28925fd5-d803-4aa2-ad03-e32c8924ad10"
      },
      "source": [
        "y_pred[0]"
      ],
      "execution_count": 73,
      "outputs": [
        {
          "output_type": "execute_result",
          "data": {
            "text/plain": [
              "array([1.8685009e-13, 1.5577034e-11, 3.6854174e-12, 5.6573773e-10,\n",
              "       2.3109922e-15, 9.0666840e-12, 3.1359771e-22, 1.0000000e+00,\n",
              "       1.7959226e-13, 1.8667201e-09], dtype=float32)"
            ]
          },
          "metadata": {
            "tags": []
          },
          "execution_count": 73
        }
      ]
    },
    {
      "cell_type": "code",
      "metadata": {
        "id": "lG7bOOk_qvIV"
      },
      "source": [
        "y_pred = np.argmax(y_pred,axis = 1)"
      ],
      "execution_count": 74,
      "outputs": []
    },
    {
      "cell_type": "code",
      "metadata": {
        "colab": {
          "base_uri": "https://localhost:8080/"
        },
        "id": "8ilv0YAcsS4G",
        "outputId": "cac9dbaa-9afe-4865-f5f7-dce46323b2c2"
      },
      "source": [
        "y_pred"
      ],
      "execution_count": 76,
      "outputs": [
        {
          "output_type": "execute_result",
          "data": {
            "text/plain": [
              "array([7, 2, 1, ..., 4, 5, 6])"
            ]
          },
          "metadata": {
            "tags": []
          },
          "execution_count": 76
        }
      ]
    },
    {
      "cell_type": "code",
      "metadata": {
        "colab": {
          "base_uri": "https://localhost:8080/"
        },
        "id": "iX_p8kQTsX2G",
        "outputId": "89bd4129-e2cd-475d-bacf-e82f517733d1"
      },
      "source": [
        "print(classification_report(y_test, y_pred))"
      ],
      "execution_count": 86,
      "outputs": [
        {
          "output_type": "stream",
          "text": [
            "              precision    recall  f1-score   support\n",
            "\n",
            "           0       0.99      0.99      0.99       980\n",
            "           1       0.99      0.99      0.99      1135\n",
            "           2       0.98      0.97      0.98      1032\n",
            "           3       0.97      0.99      0.98      1010\n",
            "           4       0.98      0.98      0.98       982\n",
            "           5       0.96      0.97      0.97       892\n",
            "           6       0.98      0.98      0.98       958\n",
            "           7       0.98      0.98      0.98      1028\n",
            "           8       0.99      0.96      0.97       974\n",
            "           9       0.97      0.97      0.97      1009\n",
            "\n",
            "    accuracy                           0.98     10000\n",
            "   macro avg       0.98      0.98      0.98     10000\n",
            "weighted avg       0.98      0.98      0.98     10000\n",
            "\n"
          ],
          "name": "stdout"
        }
      ]
    },
    {
      "cell_type": "code",
      "metadata": {
        "id": "AVpW44MlstV7"
      },
      "source": [
        ""
      ],
      "execution_count": null,
      "outputs": []
    }
  ]
}