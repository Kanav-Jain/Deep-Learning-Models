{
  "nbformat": 4,
  "nbformat_minor": 0,
  "metadata": {
    "colab": {
      "name": "Deep Learning 1.ipynb",
      "provenance": []
    },
    "kernelspec": {
      "name": "python3",
      "display_name": "Python 3"
    },
    "language_info": {
      "name": "python"
    }
  },
  "cells": [
    {
      "cell_type": "code",
      "metadata": {
        "id": "01pSU8PogQnC"
      },
      "source": [
        "import pandas as pd\n",
        "import numpy as np\n",
        "import matplotlib.pyplot as plt\n",
        "import seaborn as sns"
      ],
      "execution_count": 1,
      "outputs": []
    },
    {
      "cell_type": "code",
      "metadata": {
        "id": "6ofBJmDIgiRn"
      },
      "source": [
        "df = pd.read_csv('Churn_Modelling.csv')"
      ],
      "execution_count": 2,
      "outputs": []
    },
    {
      "cell_type": "code",
      "metadata": {
        "colab": {
          "base_uri": "https://localhost:8080/",
          "height": 223
        },
        "id": "CSMGfEX5grd8",
        "outputId": "b647f88a-2873-4396-8f13-9f813cafede2"
      },
      "source": [
        "df.head()"
      ],
      "execution_count": 3,
      "outputs": [
        {
          "output_type": "execute_result",
          "data": {
            "text/html": [
              "<div>\n",
              "<style scoped>\n",
              "    .dataframe tbody tr th:only-of-type {\n",
              "        vertical-align: middle;\n",
              "    }\n",
              "\n",
              "    .dataframe tbody tr th {\n",
              "        vertical-align: top;\n",
              "    }\n",
              "\n",
              "    .dataframe thead th {\n",
              "        text-align: right;\n",
              "    }\n",
              "</style>\n",
              "<table border=\"1\" class=\"dataframe\">\n",
              "  <thead>\n",
              "    <tr style=\"text-align: right;\">\n",
              "      <th></th>\n",
              "      <th>RowNumber</th>\n",
              "      <th>CustomerId</th>\n",
              "      <th>Surname</th>\n",
              "      <th>CreditScore</th>\n",
              "      <th>Geography</th>\n",
              "      <th>Gender</th>\n",
              "      <th>Age</th>\n",
              "      <th>Tenure</th>\n",
              "      <th>Balance</th>\n",
              "      <th>NumOfProducts</th>\n",
              "      <th>HasCrCard</th>\n",
              "      <th>IsActiveMember</th>\n",
              "      <th>EstimatedSalary</th>\n",
              "      <th>Exited</th>\n",
              "    </tr>\n",
              "  </thead>\n",
              "  <tbody>\n",
              "    <tr>\n",
              "      <th>0</th>\n",
              "      <td>1</td>\n",
              "      <td>15634602</td>\n",
              "      <td>Hargrave</td>\n",
              "      <td>619</td>\n",
              "      <td>France</td>\n",
              "      <td>Female</td>\n",
              "      <td>42</td>\n",
              "      <td>2</td>\n",
              "      <td>0.00</td>\n",
              "      <td>1</td>\n",
              "      <td>1</td>\n",
              "      <td>1</td>\n",
              "      <td>101348.88</td>\n",
              "      <td>1</td>\n",
              "    </tr>\n",
              "    <tr>\n",
              "      <th>1</th>\n",
              "      <td>2</td>\n",
              "      <td>15647311</td>\n",
              "      <td>Hill</td>\n",
              "      <td>608</td>\n",
              "      <td>Spain</td>\n",
              "      <td>Female</td>\n",
              "      <td>41</td>\n",
              "      <td>1</td>\n",
              "      <td>83807.86</td>\n",
              "      <td>1</td>\n",
              "      <td>0</td>\n",
              "      <td>1</td>\n",
              "      <td>112542.58</td>\n",
              "      <td>0</td>\n",
              "    </tr>\n",
              "    <tr>\n",
              "      <th>2</th>\n",
              "      <td>3</td>\n",
              "      <td>15619304</td>\n",
              "      <td>Onio</td>\n",
              "      <td>502</td>\n",
              "      <td>France</td>\n",
              "      <td>Female</td>\n",
              "      <td>42</td>\n",
              "      <td>8</td>\n",
              "      <td>159660.80</td>\n",
              "      <td>3</td>\n",
              "      <td>1</td>\n",
              "      <td>0</td>\n",
              "      <td>113931.57</td>\n",
              "      <td>1</td>\n",
              "    </tr>\n",
              "    <tr>\n",
              "      <th>3</th>\n",
              "      <td>4</td>\n",
              "      <td>15701354</td>\n",
              "      <td>Boni</td>\n",
              "      <td>699</td>\n",
              "      <td>France</td>\n",
              "      <td>Female</td>\n",
              "      <td>39</td>\n",
              "      <td>1</td>\n",
              "      <td>0.00</td>\n",
              "      <td>2</td>\n",
              "      <td>0</td>\n",
              "      <td>0</td>\n",
              "      <td>93826.63</td>\n",
              "      <td>0</td>\n",
              "    </tr>\n",
              "    <tr>\n",
              "      <th>4</th>\n",
              "      <td>5</td>\n",
              "      <td>15737888</td>\n",
              "      <td>Mitchell</td>\n",
              "      <td>850</td>\n",
              "      <td>Spain</td>\n",
              "      <td>Female</td>\n",
              "      <td>43</td>\n",
              "      <td>2</td>\n",
              "      <td>125510.82</td>\n",
              "      <td>1</td>\n",
              "      <td>1</td>\n",
              "      <td>1</td>\n",
              "      <td>79084.10</td>\n",
              "      <td>0</td>\n",
              "    </tr>\n",
              "  </tbody>\n",
              "</table>\n",
              "</div>"
            ],
            "text/plain": [
              "   RowNumber  CustomerId   Surname  ...  IsActiveMember EstimatedSalary Exited\n",
              "0          1    15634602  Hargrave  ...               1       101348.88      1\n",
              "1          2    15647311      Hill  ...               1       112542.58      0\n",
              "2          3    15619304      Onio  ...               0       113931.57      1\n",
              "3          4    15701354      Boni  ...               0        93826.63      0\n",
              "4          5    15737888  Mitchell  ...               1        79084.10      0\n",
              "\n",
              "[5 rows x 14 columns]"
            ]
          },
          "metadata": {
            "tags": []
          },
          "execution_count": 3
        }
      ]
    },
    {
      "cell_type": "code",
      "metadata": {
        "colab": {
          "base_uri": "https://localhost:8080/"
        },
        "id": "_WjwZWEKg3aU",
        "outputId": "781e69e8-777c-4073-8b4e-42954b7c9353"
      },
      "source": [
        "df.info()"
      ],
      "execution_count": 4,
      "outputs": [
        {
          "output_type": "stream",
          "text": [
            "<class 'pandas.core.frame.DataFrame'>\n",
            "RangeIndex: 10000 entries, 0 to 9999\n",
            "Data columns (total 14 columns):\n",
            " #   Column           Non-Null Count  Dtype  \n",
            "---  ------           --------------  -----  \n",
            " 0   RowNumber        10000 non-null  int64  \n",
            " 1   CustomerId       10000 non-null  int64  \n",
            " 2   Surname          10000 non-null  object \n",
            " 3   CreditScore      10000 non-null  int64  \n",
            " 4   Geography        10000 non-null  object \n",
            " 5   Gender           10000 non-null  object \n",
            " 6   Age              10000 non-null  int64  \n",
            " 7   Tenure           10000 non-null  int64  \n",
            " 8   Balance          10000 non-null  float64\n",
            " 9   NumOfProducts    10000 non-null  int64  \n",
            " 10  HasCrCard        10000 non-null  int64  \n",
            " 11  IsActiveMember   10000 non-null  int64  \n",
            " 12  EstimatedSalary  10000 non-null  float64\n",
            " 13  Exited           10000 non-null  int64  \n",
            "dtypes: float64(2), int64(9), object(3)\n",
            "memory usage: 1.1+ MB\n"
          ],
          "name": "stdout"
        }
      ]
    },
    {
      "cell_type": "code",
      "metadata": {
        "colab": {
          "base_uri": "https://localhost:8080/",
          "height": 296
        },
        "id": "BtsxTC03gu6-",
        "outputId": "7e347d1f-1baf-47d2-9d29-d1ff569df385"
      },
      "source": [
        "\n",
        "sns.scatterplot(x = 'IsActiveMember', y = 'EstimatedSalary', data= df)"
      ],
      "execution_count": 5,
      "outputs": [
        {
          "output_type": "execute_result",
          "data": {
            "text/plain": [
              "<matplotlib.axes._subplots.AxesSubplot at 0x7fe485bf33d0>"
            ]
          },
          "metadata": {
            "tags": []
          },
          "execution_count": 5
        },
        {
          "output_type": "display_data",
          "data": {
            "image/png": "[encoded data removed]",
            "text/plain": [
              "<Figure size 432x288 with 1 Axes>"
            ]
          },
          "metadata": {
            "tags": [],
            "needs_background": "light"
          }
        }
      ]
    },
    {
      "cell_type": "code",
      "metadata": {
        "id": "nBuqE0XNjaUr"
      },
      "source": [
        "X = df.drop([\"Exited\", 'RowNumber', 'CustomerId', 'Surname'],axis = 1)"
      ],
      "execution_count": 6,
      "outputs": []
    },
    {
      "cell_type": "code",
      "metadata": {
        "id": "xlw5fT8rmZ51"
      },
      "source": [
        "y = df['Exited']"
      ],
      "execution_count": 7,
      "outputs": []
    },
    {
      "cell_type": "code",
      "metadata": {
        "id": "qbdr_hrLmnPL"
      },
      "source": [
        "from sklearn.preprocessing import LabelEncoder"
      ],
      "execution_count": 8,
      "outputs": []
    },
    {
      "cell_type": "code",
      "metadata": {
        "id": "jx2HTAx-m_yi"
      },
      "source": [
        " lb = LabelEncoder()"
      ],
      "execution_count": 9,
      "outputs": []
    },
    {
      "cell_type": "code",
      "metadata": {
        "id": "YjmYQfqfnRJT"
      },
      "source": [
        "X['Gender'] = lb.fit_transform(X['Gender'])"
      ],
      "execution_count": 10,
      "outputs": []
    },
    {
      "cell_type": "code",
      "metadata": {
        "colab": {
          "base_uri": "https://localhost:8080/",
          "height": 437
        },
        "id": "rUvMjD8MnmXr",
        "outputId": "8783c391-e1d5-467a-e90d-1186efc429a0"
      },
      "source": [
        "X "
      ],
      "execution_count": 11,
      "outputs": [
        {
          "output_type": "execute_result",
          "data": {
            "text/html": [
              "<div>\n",
              "<style scoped>\n",
              "    .dataframe tbody tr th:only-of-type {\n",
              "        vertical-align: middle;\n",
              "    }\n",
              "\n",
              "    .dataframe tbody tr th {\n",
              "        vertical-align: top;\n",
              "    }\n",
              "\n",
              "    .dataframe thead th {\n",
              "        text-align: right;\n",
              "    }\n",
              "</style>\n",
              "<table border=\"1\" class=\"dataframe\">\n",
              "  <thead>\n",
              "    <tr style=\"text-align: right;\">\n",
              "      <th></th>\n",
              "      <th>CreditScore</th>\n",
              "      <th>Geography</th>\n",
              "      <th>Gender</th>\n",
              "      <th>Age</th>\n",
              "      <th>Tenure</th>\n",
              "      <th>Balance</th>\n",
              "      <th>NumOfProducts</th>\n",
              "      <th>HasCrCard</th>\n",
              "      <th>IsActiveMember</th>\n",
              "      <th>EstimatedSalary</th>\n",
              "    </tr>\n",
              "  </thead>\n",
              "  <tbody>\n",
              "    <tr>\n",
              "      <th>0</th>\n",
              "      <td>619</td>\n",
              "      <td>France</td>\n",
              "      <td>0</td>\n",
              "      <td>42</td>\n",
              "      <td>2</td>\n",
              "      <td>0.00</td>\n",
              "      <td>1</td>\n",
              "      <td>1</td>\n",
              "      <td>1</td>\n",
              "      <td>101348.88</td>\n",
              "    </tr>\n",
              "    <tr>\n",
              "      <th>1</th>\n",
              "      <td>608</td>\n",
              "      <td>Spain</td>\n",
              "      <td>0</td>\n",
              "      <td>41</td>\n",
              "      <td>1</td>\n",
              "      <td>83807.86</td>\n",
              "      <td>1</td>\n",
              "      <td>0</td>\n",
              "      <td>1</td>\n",
              "      <td>112542.58</td>\n",
              "    </tr>\n",
              "    <tr>\n",
              "      <th>2</th>\n",
              "      <td>502</td>\n",
              "      <td>France</td>\n",
              "      <td>0</td>\n",
              "      <td>42</td>\n",
              "      <td>8</td>\n",
              "      <td>159660.80</td>\n",
              "      <td>3</td>\n",
              "      <td>1</td>\n",
              "      <td>0</td>\n",
              "      <td>113931.57</td>\n",
              "    </tr>\n",
              "    <tr>\n",
              "      <th>3</th>\n",
              "      <td>699</td>\n",
              "      <td>France</td>\n",
              "      <td>0</td>\n",
              "      <td>39</td>\n",
              "      <td>1</td>\n",
              "      <td>0.00</td>\n",
              "      <td>2</td>\n",
              "      <td>0</td>\n",
              "      <td>0</td>\n",
              "      <td>93826.63</td>\n",
              "    </tr>\n",
              "    <tr>\n",
              "      <th>4</th>\n",
              "      <td>850</td>\n",
              "      <td>Spain</td>\n",
              "      <td>0</td>\n",
              "      <td>43</td>\n",
              "      <td>2</td>\n",
              "      <td>125510.82</td>\n",
              "      <td>1</td>\n",
              "      <td>1</td>\n",
              "      <td>1</td>\n",
              "      <td>79084.10</td>\n",
              "    </tr>\n",
              "    <tr>\n",
              "      <th>...</th>\n",
              "      <td>...</td>\n",
              "      <td>...</td>\n",
              "      <td>...</td>\n",
              "      <td>...</td>\n",
              "      <td>...</td>\n",
              "      <td>...</td>\n",
              "      <td>...</td>\n",
              "      <td>...</td>\n",
              "      <td>...</td>\n",
              "      <td>...</td>\n",
              "    </tr>\n",
              "    <tr>\n",
              "      <th>9995</th>\n",
              "      <td>771</td>\n",
              "      <td>France</td>\n",
              "      <td>1</td>\n",
              "      <td>39</td>\n",
              "      <td>5</td>\n",
              "      <td>0.00</td>\n",
              "      <td>2</td>\n",
              "      <td>1</td>\n",
              "      <td>0</td>\n",
              "      <td>96270.64</td>\n",
              "    </tr>\n",
              "    <tr>\n",
              "      <th>9996</th>\n",
              "      <td>516</td>\n",
              "      <td>France</td>\n",
              "      <td>1</td>\n",
              "      <td>35</td>\n",
              "      <td>10</td>\n",
              "      <td>57369.61</td>\n",
              "      <td>1</td>\n",
              "      <td>1</td>\n",
              "      <td>1</td>\n",
              "      <td>101699.77</td>\n",
              "    </tr>\n",
              "    <tr>\n",
              "      <th>9997</th>\n",
              "      <td>709</td>\n",
              "      <td>France</td>\n",
              "      <td>0</td>\n",
              "      <td>36</td>\n",
              "      <td>7</td>\n",
              "      <td>0.00</td>\n",
              "      <td>1</td>\n",
              "      <td>0</td>\n",
              "      <td>1</td>\n",
              "      <td>42085.58</td>\n",
              "    </tr>\n",
              "    <tr>\n",
              "      <th>9998</th>\n",
              "      <td>772</td>\n",
              "      <td>Germany</td>\n",
              "      <td>1</td>\n",
              "      <td>42</td>\n",
              "      <td>3</td>\n",
              "      <td>75075.31</td>\n",
              "      <td>2</td>\n",
              "      <td>1</td>\n",
              "      <td>0</td>\n",
              "      <td>92888.52</td>\n",
              "    </tr>\n",
              "    <tr>\n",
              "      <th>9999</th>\n",
              "      <td>792</td>\n",
              "      <td>France</td>\n",
              "      <td>0</td>\n",
              "      <td>28</td>\n",
              "      <td>4</td>\n",
              "      <td>130142.79</td>\n",
              "      <td>1</td>\n",
              "      <td>1</td>\n",
              "      <td>0</td>\n",
              "      <td>38190.78</td>\n",
              "    </tr>\n",
              "  </tbody>\n",
              "</table>\n",
              "<p>10000 rows × 10 columns</p>\n",
              "</div>"
            ],
            "text/plain": [
              "      CreditScore Geography  Gender  ...  HasCrCard  IsActiveMember  EstimatedSalary\n",
              "0             619    France       0  ...          1               1        101348.88\n",
              "1             608     Spain       0  ...          0               1        112542.58\n",
              "2             502    France       0  ...          1               0        113931.57\n",
              "3             699    France       0  ...          0               0         93826.63\n",
              "4             850     Spain       0  ...          1               1         79084.10\n",
              "...           ...       ...     ...  ...        ...             ...              ...\n",
              "9995          771    France       1  ...          1               0         96270.64\n",
              "9996          516    France       1  ...          1               1        101699.77\n",
              "9997          709    France       0  ...          0               1         42085.58\n",
              "9998          772   Germany       1  ...          1               0         92888.52\n",
              "9999          792    France       0  ...          1               0         38190.78\n",
              "\n",
              "[10000 rows x 10 columns]"
            ]
          },
          "metadata": {
            "tags": []
          },
          "execution_count": 11
        }
      ]
    },
    {
      "cell_type": "code",
      "metadata": {
        "id": "sSxVspZtnz_S"
      },
      "source": [
        "from sklearn.preprocessing import OneHotEncoder\n",
        "from sklearn.compose import ColumnTransformer\n",
        "ct = ColumnTransformer([(\"Geography\", OneHotEncoder(), [1])], remainder = 'passthrough')\n",
        "X = ct.fit_transform(X)"
      ],
      "execution_count": 12,
      "outputs": []
    },
    {
      "cell_type": "code",
      "metadata": {
        "id": "eIqENJnIn96U"
      },
      "source": [
        "from sklearn.model_selection import train_test_split"
      ],
      "execution_count": 13,
      "outputs": []
    },
    {
      "cell_type": "code",
      "metadata": {
        "id": "uLV-_Ug3pIzR"
      },
      "source": [
        "# help(train_test_split)\n",
        "X_train, X_test, y_train, y_test = train_test_split(X, y, test_size=0.3, random_state=0)"
      ],
      "execution_count": 14,
      "outputs": []
    },
    {
      "cell_type": "code",
      "metadata": {
        "id": "iSlfmKQ7pLXH"
      },
      "source": [
        "from sklearn.preprocessing import StandardScaler"
      ],
      "execution_count": 15,
      "outputs": []
    },
    {
      "cell_type": "code",
      "metadata": {
        "id": "CF_Es8jApjmP"
      },
      "source": [
        "scaler = StandardScaler()"
      ],
      "execution_count": 16,
      "outputs": []
    },
    {
      "cell_type": "code",
      "metadata": {
        "id": "TuFDFY_ZsHKM"
      },
      "source": [
        "X_train = scaler.fit_transform(X_train)"
      ],
      "execution_count": 17,
      "outputs": []
    },
    {
      "cell_type": "code",
      "metadata": {
        "id": "QmMHYnn7s-32"
      },
      "source": [
        "\n",
        "X_test = scaler.transform(X_test)"
      ],
      "execution_count": 18,
      "outputs": []
    },
    {
      "cell_type": "code",
      "metadata": {
        "id": "E9lCQSentDcD"
      },
      "source": [
        "import keras\n",
        "from keras.models import Sequential\n",
        "from keras.layers import Dense"
      ],
      "execution_count": 19,
      "outputs": []
    },
    {
      "cell_type": "code",
      "metadata": {
        "id": "pytEHu6BtkIx"
      },
      "source": [
        "classifier = Sequential()"
      ],
      "execution_count": 20,
      "outputs": []
    },
    {
      "cell_type": "code",
      "metadata": {
        "id": "Ia13qVClvQ8m"
      },
      "source": [
        "classifier.add(Dense(input_dim = 12, units = 8, kernel_initializer='uniform',\n",
        "                     activation = 'relu'))"
      ],
      "execution_count": 21,
      "outputs": []
    },
    {
      "cell_type": "code",
      "metadata": {
        "id": "VGtKls3Fvw59"
      },
      "source": [
        "classifier.add(Dense(units = 8, kernel_initializer='uniform',\n",
        "                     activation = 'relu'))"
      ],
      "execution_count": 22,
      "outputs": []
    },
    {
      "cell_type": "code",
      "metadata": {
        "id": "yNLGc-V5wsFH"
      },
      "source": [
        "classifier.add(Dense(units = 1, kernel_initializer='uniform',\n",
        "                     activation = 'sigmoid'))"
      ],
      "execution_count": 23,
      "outputs": []
    },
    {
      "cell_type": "code",
      "metadata": {
        "id": "-gUo_7x72moo"
      },
      "source": [
        "classifier.compile(optimizer = 'adam', loss = 'binary_crossentropy', metrics = ['accuracy'])"
      ],
      "execution_count": 24,
      "outputs": []
    },
    {
      "cell_type": "code",
      "metadata": {
        "colab": {
          "base_uri": "https://localhost:8080/"
        },
        "id": "WGWoIBR_38Qd",
        "outputId": "d3c201e1-fa90-4eb8-9ea9-3e017139aaa5"
      },
      "source": [
        "classifier.summary()"
      ],
      "execution_count": 25,
      "outputs": [
        {
          "output_type": "stream",
          "text": [
            "Model: \"sequential\"\n",
            "_________________________________________________________________\n",
            "Layer (type)                 Output Shape              Param #   \n",
            "=================================================================\n",
            "dense (Dense)                (None, 8)                 104       \n",
            "_________________________________________________________________\n",
            "dense_1 (Dense)              (None, 8)                 72        \n",
            "_________________________________________________________________\n",
            "dense_2 (Dense)              (None, 1)                 9         \n",
            "=================================================================\n",
            "Total params: 185\n",
            "Trainable params: 185\n",
            "Non-trainable params: 0\n",
            "_________________________________________________________________\n"
          ],
          "name": "stdout"
        }
      ]
    },
    {
      "cell_type": "code",
      "metadata": {
        "colab": {
          "base_uri": "https://localhost:8080/"
        },
        "id": "tiy7Z_Yz4AyP",
        "outputId": "84b36d2d-716c-406d-bb5a-3dd07caf69e0"
      },
      "source": [
        "results = classifier.fit(X_train, y_train, batch_size = 10, epochs = 100)"
      ],
      "execution_count": 26,
      "outputs": [
        {
          "output_type": "stream",
          "text": [
            "Epoch 1/100\n",
            "700/700 [==============================] - 14s 1ms/step - loss: 0.5511 - accuracy: 0.7926\n",
            "Epoch 2/100\n",
            "700/700 [==============================] - 1s 1ms/step - loss: 0.4388 - accuracy: 0.7853\n",
            "Epoch 3/100\n",
            "700/700 [==============================] - 1s 1ms/step - loss: 0.4049 - accuracy: 0.8020\n",
            "Epoch 4/100\n",
            "700/700 [==============================] - 1s 1ms/step - loss: 0.3956 - accuracy: 0.8281\n",
            "Epoch 5/100\n",
            "700/700 [==============================] - 1s 1ms/step - loss: 0.3882 - accuracy: 0.8322\n",
            "Epoch 6/100\n",
            "700/700 [==============================] - 1s 1ms/step - loss: 0.3738 - accuracy: 0.8306\n",
            "Epoch 7/100\n",
            "700/700 [==============================] - 1s 1ms/step - loss: 0.3779 - accuracy: 0.8344\n",
            "Epoch 8/100\n",
            "700/700 [==============================] - 1s 1ms/step - loss: 0.3756 - accuracy: 0.8481\n",
            "Epoch 9/100\n",
            "700/700 [==============================] - 1s 1ms/step - loss: 0.3759 - accuracy: 0.8457\n",
            "Epoch 10/100\n",
            "700/700 [==============================] - 1s 1ms/step - loss: 0.3717 - accuracy: 0.8470\n",
            "Epoch 11/100\n",
            "700/700 [==============================] - 1s 1ms/step - loss: 0.3653 - accuracy: 0.8471\n",
            "Epoch 12/100\n",
            "700/700 [==============================] - 1s 1ms/step - loss: 0.3545 - accuracy: 0.8553\n",
            "Epoch 13/100\n",
            "700/700 [==============================] - 1s 1ms/step - loss: 0.3557 - accuracy: 0.8604\n",
            "Epoch 14/100\n",
            "700/700 [==============================] - 1s 1ms/step - loss: 0.3586 - accuracy: 0.8536\n",
            "Epoch 15/100\n",
            "700/700 [==============================] - 1s 1ms/step - loss: 0.3606 - accuracy: 0.8574\n",
            "Epoch 16/100\n",
            "700/700 [==============================] - 1s 1ms/step - loss: 0.3667 - accuracy: 0.8495\n",
            "Epoch 17/100\n",
            "700/700 [==============================] - 1s 1ms/step - loss: 0.3652 - accuracy: 0.8504\n",
            "Epoch 18/100\n",
            "700/700 [==============================] - 1s 1ms/step - loss: 0.3571 - accuracy: 0.8582\n",
            "Epoch 19/100\n",
            "700/700 [==============================] - 1s 1ms/step - loss: 0.3653 - accuracy: 0.8475\n",
            "Epoch 20/100\n",
            "700/700 [==============================] - 1s 1ms/step - loss: 0.3526 - accuracy: 0.8584\n",
            "Epoch 21/100\n",
            "700/700 [==============================] - 1s 1ms/step - loss: 0.3477 - accuracy: 0.8622\n",
            "Epoch 22/100\n",
            "700/700 [==============================] - 1s 1ms/step - loss: 0.3473 - accuracy: 0.8599\n",
            "Epoch 23/100\n",
            "700/700 [==============================] - 1s 1ms/step - loss: 0.3600 - accuracy: 0.8529\n",
            "Epoch 24/100\n",
            "700/700 [==============================] - 1s 1ms/step - loss: 0.3580 - accuracy: 0.8587\n",
            "Epoch 25/100\n",
            "700/700 [==============================] - 1s 1ms/step - loss: 0.3465 - accuracy: 0.8570\n",
            "Epoch 26/100\n",
            "700/700 [==============================] - 1s 1ms/step - loss: 0.3487 - accuracy: 0.8666\n",
            "Epoch 27/100\n",
            "700/700 [==============================] - 1s 1ms/step - loss: 0.3565 - accuracy: 0.8544\n",
            "Epoch 28/100\n",
            "700/700 [==============================] - 1s 1ms/step - loss: 0.3488 - accuracy: 0.8643\n",
            "Epoch 29/100\n",
            "700/700 [==============================] - 1s 1ms/step - loss: 0.3431 - accuracy: 0.8631\n",
            "Epoch 30/100\n",
            "700/700 [==============================] - 1s 1ms/step - loss: 0.3648 - accuracy: 0.8527\n",
            "Epoch 31/100\n",
            "700/700 [==============================] - 1s 1ms/step - loss: 0.3427 - accuracy: 0.8647\n",
            "Epoch 32/100\n",
            "700/700 [==============================] - 1s 1ms/step - loss: 0.3473 - accuracy: 0.8606\n",
            "Epoch 33/100\n",
            "700/700 [==============================] - 1s 1ms/step - loss: 0.3596 - accuracy: 0.8560\n",
            "Epoch 34/100\n",
            "700/700 [==============================] - 1s 1ms/step - loss: 0.3565 - accuracy: 0.8550\n",
            "Epoch 35/100\n",
            "700/700 [==============================] - 1s 1ms/step - loss: 0.3460 - accuracy: 0.8650\n",
            "Epoch 36/100\n",
            "700/700 [==============================] - 1s 1ms/step - loss: 0.3559 - accuracy: 0.8556\n",
            "Epoch 37/100\n",
            "700/700 [==============================] - 1s 1ms/step - loss: 0.3558 - accuracy: 0.8531\n",
            "Epoch 38/100\n",
            "700/700 [==============================] - 1s 1ms/step - loss: 0.3428 - accuracy: 0.8588\n",
            "Epoch 39/100\n",
            "700/700 [==============================] - 1s 1ms/step - loss: 0.3453 - accuracy: 0.8555\n",
            "Epoch 40/100\n",
            "700/700 [==============================] - 1s 1ms/step - loss: 0.3434 - accuracy: 0.8584\n",
            "Epoch 41/100\n",
            "700/700 [==============================] - 1s 1ms/step - loss: 0.3442 - accuracy: 0.8589\n",
            "Epoch 42/100\n",
            "700/700 [==============================] - 1s 1ms/step - loss: 0.3345 - accuracy: 0.8700\n",
            "Epoch 43/100\n",
            "700/700 [==============================] - 1s 1ms/step - loss: 0.3534 - accuracy: 0.8595\n",
            "Epoch 44/100\n",
            "700/700 [==============================] - 1s 1ms/step - loss: 0.3410 - accuracy: 0.8617\n",
            "Epoch 45/100\n",
            "700/700 [==============================] - 1s 1ms/step - loss: 0.3457 - accuracy: 0.8625\n",
            "Epoch 46/100\n",
            "700/700 [==============================] - 1s 1ms/step - loss: 0.3548 - accuracy: 0.8549\n",
            "Epoch 47/100\n",
            "700/700 [==============================] - 1s 1ms/step - loss: 0.3509 - accuracy: 0.8594\n",
            "Epoch 48/100\n",
            "700/700 [==============================] - 1s 1ms/step - loss: 0.3474 - accuracy: 0.8592\n",
            "Epoch 49/100\n",
            "700/700 [==============================] - 1s 1ms/step - loss: 0.3396 - accuracy: 0.8619\n",
            "Epoch 50/100\n",
            "700/700 [==============================] - 1s 1ms/step - loss: 0.3365 - accuracy: 0.8614\n",
            "Epoch 51/100\n",
            "700/700 [==============================] - 1s 1ms/step - loss: 0.3428 - accuracy: 0.8613\n",
            "Epoch 52/100\n",
            "700/700 [==============================] - 1s 1ms/step - loss: 0.3428 - accuracy: 0.8609\n",
            "Epoch 53/100\n",
            "700/700 [==============================] - 1s 1ms/step - loss: 0.3451 - accuracy: 0.8644\n",
            "Epoch 54/100\n",
            "700/700 [==============================] - 1s 1ms/step - loss: 0.3403 - accuracy: 0.8644\n",
            "Epoch 55/100\n",
            "700/700 [==============================] - 1s 1ms/step - loss: 0.3469 - accuracy: 0.8578\n",
            "Epoch 56/100\n",
            "700/700 [==============================] - 1s 1ms/step - loss: 0.3495 - accuracy: 0.8543\n",
            "Epoch 57/100\n",
            "700/700 [==============================] - 1s 1ms/step - loss: 0.3500 - accuracy: 0.8548\n",
            "Epoch 58/100\n",
            "700/700 [==============================] - 1s 1ms/step - loss: 0.3457 - accuracy: 0.8650\n",
            "Epoch 59/100\n",
            "700/700 [==============================] - 1s 1ms/step - loss: 0.3404 - accuracy: 0.8595\n",
            "Epoch 60/100\n",
            "700/700 [==============================] - 1s 1ms/step - loss: 0.3442 - accuracy: 0.8621\n",
            "Epoch 61/100\n",
            "700/700 [==============================] - 1s 1ms/step - loss: 0.3400 - accuracy: 0.8591\n",
            "Epoch 62/100\n",
            "700/700 [==============================] - 1s 1ms/step - loss: 0.3413 - accuracy: 0.8619\n",
            "Epoch 63/100\n",
            "700/700 [==============================] - 1s 1ms/step - loss: 0.3457 - accuracy: 0.8628\n",
            "Epoch 64/100\n",
            "700/700 [==============================] - 1s 1ms/step - loss: 0.3446 - accuracy: 0.8588\n",
            "Epoch 65/100\n",
            "700/700 [==============================] - 1s 1ms/step - loss: 0.3553 - accuracy: 0.8508\n",
            "Epoch 66/100\n",
            "700/700 [==============================] - 1s 1ms/step - loss: 0.3390 - accuracy: 0.8636\n",
            "Epoch 67/100\n",
            "700/700 [==============================] - 1s 1ms/step - loss: 0.3451 - accuracy: 0.8621\n",
            "Epoch 68/100\n",
            "700/700 [==============================] - 1s 1ms/step - loss: 0.3402 - accuracy: 0.8587\n",
            "Epoch 69/100\n",
            "700/700 [==============================] - 1s 1ms/step - loss: 0.3477 - accuracy: 0.8605\n",
            "Epoch 70/100\n",
            "700/700 [==============================] - 1s 1ms/step - loss: 0.3460 - accuracy: 0.8628\n",
            "Epoch 71/100\n",
            "700/700 [==============================] - 1s 1ms/step - loss: 0.3490 - accuracy: 0.8603\n",
            "Epoch 72/100\n",
            "700/700 [==============================] - 1s 1ms/step - loss: 0.3512 - accuracy: 0.8621\n",
            "Epoch 73/100\n",
            "700/700 [==============================] - 1s 1ms/step - loss: 0.3454 - accuracy: 0.8621\n",
            "Epoch 74/100\n",
            "700/700 [==============================] - 1s 1ms/step - loss: 0.3294 - accuracy: 0.8693\n",
            "Epoch 75/100\n",
            "700/700 [==============================] - 1s 1ms/step - loss: 0.3418 - accuracy: 0.8646\n",
            "Epoch 76/100\n",
            "700/700 [==============================] - 1s 1ms/step - loss: 0.3448 - accuracy: 0.8583\n",
            "Epoch 77/100\n",
            "700/700 [==============================] - 1s 1ms/step - loss: 0.3433 - accuracy: 0.8607\n",
            "Epoch 78/100\n",
            "700/700 [==============================] - 1s 1ms/step - loss: 0.3541 - accuracy: 0.8575\n",
            "Epoch 79/100\n",
            "700/700 [==============================] - 1s 1ms/step - loss: 0.3454 - accuracy: 0.8629\n",
            "Epoch 80/100\n",
            "700/700 [==============================] - 1s 1ms/step - loss: 0.3426 - accuracy: 0.8648\n",
            "Epoch 81/100\n",
            "700/700 [==============================] - 1s 1ms/step - loss: 0.3466 - accuracy: 0.8594\n",
            "Epoch 82/100\n",
            "700/700 [==============================] - 1s 1ms/step - loss: 0.3490 - accuracy: 0.8625\n",
            "Epoch 83/100\n",
            "700/700 [==============================] - 1s 1ms/step - loss: 0.3364 - accuracy: 0.8596\n",
            "Epoch 84/100\n",
            "700/700 [==============================] - 1s 1ms/step - loss: 0.3281 - accuracy: 0.8730\n",
            "Epoch 85/100\n",
            "700/700 [==============================] - 1s 1ms/step - loss: 0.3378 - accuracy: 0.8623\n",
            "Epoch 86/100\n",
            "700/700 [==============================] - 1s 1ms/step - loss: 0.3527 - accuracy: 0.8579\n",
            "Epoch 87/100\n",
            "700/700 [==============================] - 1s 1ms/step - loss: 0.3404 - accuracy: 0.8602\n",
            "Epoch 88/100\n",
            "700/700 [==============================] - 1s 1ms/step - loss: 0.3373 - accuracy: 0.8594\n",
            "Epoch 89/100\n",
            "700/700 [==============================] - 1s 1ms/step - loss: 0.3338 - accuracy: 0.8676\n",
            "Epoch 90/100\n",
            "700/700 [==============================] - 1s 1ms/step - loss: 0.3402 - accuracy: 0.8620\n",
            "Epoch 91/100\n",
            "700/700 [==============================] - 1s 1ms/step - loss: 0.3355 - accuracy: 0.8624\n",
            "Epoch 92/100\n",
            "700/700 [==============================] - 1s 1ms/step - loss: 0.3546 - accuracy: 0.8550\n",
            "Epoch 93/100\n",
            "700/700 [==============================] - 1s 1ms/step - loss: 0.3342 - accuracy: 0.8670\n",
            "Epoch 94/100\n",
            "700/700 [==============================] - 1s 1ms/step - loss: 0.3506 - accuracy: 0.8545\n",
            "Epoch 95/100\n",
            "700/700 [==============================] - 1s 1ms/step - loss: 0.3446 - accuracy: 0.8615\n",
            "Epoch 96/100\n",
            "700/700 [==============================] - 1s 1ms/step - loss: 0.3514 - accuracy: 0.8605\n",
            "Epoch 97/100\n",
            "700/700 [==============================] - 1s 1ms/step - loss: 0.3384 - accuracy: 0.8621\n",
            "Epoch 98/100\n",
            "700/700 [==============================] - 1s 1ms/step - loss: 0.3420 - accuracy: 0.8623\n",
            "Epoch 99/100\n",
            "700/700 [==============================] - 1s 1ms/step - loss: 0.3557 - accuracy: 0.8495\n",
            "Epoch 100/100\n",
            "700/700 [==============================] - 1s 1ms/step - loss: 0.3405 - accuracy: 0.8619\n"
          ],
          "name": "stdout"
        }
      ]
    },
    {
      "cell_type": "code",
      "metadata": {
        "id": "qphd3YL34gCC"
      },
      "source": [
        "accuracy = results.history['accuracy']"
      ],
      "execution_count": 27,
      "outputs": []
    },
    {
      "cell_type": "code",
      "metadata": {
        "colab": {
          "base_uri": "https://localhost:8080/"
        },
        "id": "0UYYtMxC6woq",
        "outputId": "ace6fe2d-ea8e-4158-e5f7-5897539e5da0"
      },
      "source": [
        "accuracy"
      ],
      "execution_count": 28,
      "outputs": [
        {
          "output_type": "execute_result",
          "data": {
            "text/plain": [
              "[0.7977142930030823,\n",
              " 0.7977142930030823,\n",
              " 0.8092857003211975,\n",
              " 0.8289999961853027,\n",
              " 0.8289999961853027,\n",
              " 0.8295714259147644,\n",
              " 0.8408571481704712,\n",
              " 0.8482857346534729,\n",
              " 0.8498571515083313,\n",
              " 0.8489999771118164,\n",
              " 0.8505714535713196,\n",
              " 0.8524285554885864,\n",
              " 0.8551428318023682,\n",
              " 0.8528571724891663,\n",
              " 0.8558571338653564,\n",
              " 0.8524285554885864,\n",
              " 0.855571448802948,\n",
              " 0.8557142615318298,\n",
              " 0.8571428656578064,\n",
              " 0.8602856993675232,\n",
              " 0.8598571419715881,\n",
              " 0.8595714569091797,\n",
              " 0.8602856993675232,\n",
              " 0.8615714311599731,\n",
              " 0.859000027179718,\n",
              " 0.8611428737640381,\n",
              " 0.8592857122421265,\n",
              " 0.8621428608894348,\n",
              " 0.8598571419715881,\n",
              " 0.8579999804496765,\n",
              " 0.8612856864929199,\n",
              " 0.8598571419715881,\n",
              " 0.8614285588264465,\n",
              " 0.8605714440345764,\n",
              " 0.8614285588264465,\n",
              " 0.8597142696380615,\n",
              " 0.8592857122421265,\n",
              " 0.8587142825126648,\n",
              " 0.8575714230537415,\n",
              " 0.8594285845756531,\n",
              " 0.8598571419715881,\n",
              " 0.8592857122421265,\n",
              " 0.8602856993675232,\n",
              " 0.8611428737640381,\n",
              " 0.8621428608894348,\n",
              " 0.8624285459518433,\n",
              " 0.8621428608894348,\n",
              " 0.8588571548461914,\n",
              " 0.8605714440345764,\n",
              " 0.8574285507202148,\n",
              " 0.8605714440345764,\n",
              " 0.8608571290969849,\n",
              " 0.8642857074737549,\n",
              " 0.8607142567634583,\n",
              " 0.8597142696380615,\n",
              " 0.8602856993675232,\n",
              " 0.8621428608894348,\n",
              " 0.8624285459518433,\n",
              " 0.8611428737640381,\n",
              " 0.8605714440345764,\n",
              " 0.8615714311599731,\n",
              " 0.8619999885559082,\n",
              " 0.8604285717010498,\n",
              " 0.859000027179718,\n",
              " 0.8574285507202148,\n",
              " 0.8615714311599731,\n",
              " 0.8604285717010498,\n",
              " 0.859000027179718,\n",
              " 0.8627142906188965,\n",
              " 0.8621428608894348,\n",
              " 0.8621428608894348,\n",
              " 0.8628571629524231,\n",
              " 0.8608571290969849,\n",
              " 0.8607142567634583,\n",
              " 0.8625714182853699,\n",
              " 0.8622857332229614,\n",
              " 0.8618571162223816,\n",
              " 0.8600000143051147,\n",
              " 0.8618571162223816,\n",
              " 0.8624285459518433,\n",
              " 0.8604285717010498,\n",
              " 0.8628571629524231,\n",
              " 0.8594285845756531,\n",
              " 0.8632857203483582,\n",
              " 0.8621428608894348,\n",
              " 0.8627142906188965,\n",
              " 0.8602856993675232,\n",
              " 0.8601428866386414,\n",
              " 0.8617143034934998,\n",
              " 0.8614285588264465,\n",
              " 0.8611428737640381,\n",
              " 0.8612856864929199,\n",
              " 0.8615714311599731,\n",
              " 0.8634285926818848,\n",
              " 0.8617143034934998,\n",
              " 0.8634285926818848,\n",
              " 0.8594285845756531,\n",
              " 0.8602856993675232,\n",
              " 0.8607142567634583,\n",
              " 0.8608571290969849]"
            ]
          },
          "metadata": {
            "tags": []
          },
          "execution_count": 28
        }
      ]
    },
    {
      "cell_type": "code",
      "metadata": {
        "colab": {
          "base_uri": "https://localhost:8080/",
          "height": 296
        },
        "id": "M-GEWrio6zTv",
        "outputId": "661623d3-29aa-4507-b586-f4f4b05c9694"
      },
      "source": [
        "plt.plot(accuracy)\n",
        "plt.xlabel('Number of epochs')\n",
        "plt.ylabel('Accuracy')"
      ],
      "execution_count": 29,
      "outputs": [
        {
          "output_type": "execute_result",
          "data": {
            "text/plain": [
              "Text(0, 0.5, 'Accuracy')"
            ]
          },
          "metadata": {
            "tags": []
          },
          "execution_count": 29
        },
        {
          "output_type": "display_data",
          "data": {
            "image/png": "[encoded data removed]",
            "text/plain": [
              "<Figure size 432x288 with 1 Axes>"
            ]
          },
          "metadata": {
            "tags": [],
            "needs_background": "light"
          }
        }
      ]
    },
    {
      "cell_type": "code",
      "metadata": {
        "id": "pLycx8uI685l"
      },
      "source": [
        "y_pred = classifier.predict(X_test)"
      ],
      "execution_count": 30,
      "outputs": []
    },
    {
      "cell_type": "code",
      "metadata": {
        "colab": {
          "base_uri": "https://localhost:8080/"
        },
        "id": "8ObHC2yKxy0T",
        "outputId": "8187db87-1639-4aaf-e841-8ac7704a8fb6"
      },
      "source": [
        "y_pred"
      ],
      "execution_count": 31,
      "outputs": [
        {
          "output_type": "execute_result",
          "data": {
            "text/plain": [
              "array([[0.33272702],\n",
              "       [0.455639  ],\n",
              "       [0.19421408],\n",
              "       ...,\n",
              "       [0.05035192],\n",
              "       [0.02759323],\n",
              "       [0.778123  ]], dtype=float32)"
            ]
          },
          "metadata": {
            "tags": []
          },
          "execution_count": 31
        }
      ]
    },
    {
      "cell_type": "code",
      "metadata": {
        "id": "W9la7vmHyXFj"
      },
      "source": [
        ""
      ],
      "execution_count": null,
      "outputs": []
    }
  ]
}